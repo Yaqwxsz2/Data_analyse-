{
  "nbformat": 4,
  "nbformat_minor": 0,
  "metadata": {
    "colab": {
      "name": "VIGOUROUX _GIovanni-Cruise_Exercice1_&_Exercice2.ipynb",
      "provenance": [],
      "collapsed_sections": []
    },
    "kernelspec": {
      "name": "python3",
      "display_name": "Python 3"
    },
    "language_info": {
      "name": "python"
    }
  },
  "cells": [
    {
      "cell_type": "markdown",
      "source": [
        "##Exercice 1 :  Récupérer toutes les citations, les auteurs et les tags de la première page. Le résultat au format .csv :"
      ],
      "metadata": {
        "id": "QwEtKxXLc8D5"
      }
    },
    {
      "cell_type": "markdown",
      "source": [
        "1- url à scrapper"
      ],
      "metadata": {
        "id": "asqwQ4VhgExw"
      }
    },
    {
      "cell_type": "code",
      "source": [
        "import requests\n",
        "url = 'https://quotes.toscrape.com/'"
      ],
      "metadata": {
        "id": "Y0XwSrJadFvC"
      },
      "execution_count": 6,
      "outputs": []
    },
    {
      "cell_type": "markdown",
      "source": [
        "2 - Mise en place de ma requête pour récupérer le code source de la page HTML\n",
        "<br/>Clic droit “View source page”\n",
        "<br/>Plus d’infos sur request : https://fr.python-requests.org/en/latest/ "
      ],
      "metadata": {
        "id": "AgTvgFkJgF0I"
      }
    },
    {
      "cell_type": "code",
      "source": [
        "response = requests.get(url)"
      ],
      "metadata": {
        "id": "DM_hJuKMfWds"
      },
      "execution_count": 7,
      "outputs": []
    },
    {
      "cell_type": "markdown",
      "source": [
        "3- Parser le résultat de la requête. \n",
        "<br/>Analyse du résultat de la requête en HTML\n",
        "<br/>Ressources : https://beautiful-soup-4.readthedocs.io/en/latest/index.html?highlight=parser#installing-a-parser\n",
        "**bold text**"
      ],
      "metadata": {
        "id": "sw31Fy1IgGWP"
      }
    },
    {
      "cell_type": "code",
      "source": [
        "from bs4 import BeautifulSoup\n",
        "\n",
        "response_html = BeautifulSoup(response.text, 'html.parser')"
      ],
      "metadata": {
        "id": "KEw-D6xnfzHh"
      },
      "execution_count": 8,
      "outputs": []
    },
    {
      "cell_type": "markdown",
      "source": [
        "4 - Sélection du parent direct de notre contenu\n",
        "<br/>Clic droit “Inspect”\n",
        "<br/>Ressources : https://beautiful-soup-4.readthedocs.io/en/latest/index.html?highlight=parser#quick-start\n"
      ],
      "metadata": {
        "id": "XjSpLBPVgHGT"
      }
    },
    {
      "cell_type": "code",
      "source": [
        "conteneur_div = response_html.find_all('div', class_=\"quote\")"
      ],
      "metadata": {
        "id": "VMof5fHOf-IT"
      },
      "execution_count": 64,
      "outputs": []
    },
    {
      "cell_type": "markdown",
      "source": [
        "5 - Boucle sur chaque enfants afin de cibler les données que nous souhaitons récupérer"
      ],
      "metadata": {
        "id": "YCtLNsxCgHvk"
      }
    },
    {
      "cell_type": "code",
      "source": [
        "authors_list = []; quotes_list = []; tags_list = [];\n",
        "\n",
        "for quotes in conteneur_div:\n",
        "\n",
        "  quote = quotes.find('span', class_='text').text\n",
        "  authors = quotes.find('small', class_='author').text\n",
        "  tags = quotes.find('meta')['content']\n",
        "\n",
        "  quotes_list.append(quote)\n",
        "  authors_list.append(authors)\n",
        "  tags_list.append(tags)\n",
        "  \n",
        "  page_content = print(quote, ': ',authors, ':', tags); print()\n",
        "\n",
        "page_content\n",
        "import pandas as pd\n",
        "df = pd.DataFrame(page_content)\n",
        "#df.to_csv(r'/Users/giovannicruisevigouroux/Downloads/Exerice1.csv', index = False)"
      ],
      "metadata": {
        "id": "IiAgY7Izf_LC",
        "colab": {
          "base_uri": "https://localhost:8080/"
        },
        "outputId": "063dfa5f-1543-4d8f-d6fa-52c22618ccb4"
      },
      "execution_count": 79,
      "outputs": [
        {
          "output_type": "stream",
          "name": "stdout",
          "text": [
            "“The world as we have created it is a process of our thinking. It cannot be changed without changing our thinking.” :  Albert Einstein : change,deep-thoughts,thinking,world\n",
            "\n",
            "“It is our choices, Harry, that show what we truly are, far more than our abilities.” :  J.K. Rowling : abilities,choices\n",
            "\n",
            "“There are only two ways to live your life. One is as though nothing is a miracle. The other is as though everything is a miracle.” :  Albert Einstein : inspirational,life,live,miracle,miracles\n",
            "\n",
            "“The person, be it gentleman or lady, who has not pleasure in a good novel, must be intolerably stupid.” :  Jane Austen : aliteracy,books,classic,humor\n",
            "\n",
            "“Imperfection is beauty, madness is genius and it's better to be absolutely ridiculous than absolutely boring.” :  Marilyn Monroe : be-yourself,inspirational\n",
            "\n",
            "“Try not to become a man of success. Rather become a man of value.” :  Albert Einstein : adulthood,success,value\n",
            "\n",
            "“It is better to be hated for what you are than to be loved for what you are not.” :  André Gide : life,love\n",
            "\n",
            "“I have not failed. I've just found 10,000 ways that won't work.” :  Thomas A. Edison : edison,failure,inspirational,paraphrased\n",
            "\n",
            "“A woman is like a tea bag; you never know how strong it is until it's in hot water.” :  Eleanor Roosevelt : misattributed-eleanor-roosevelt\n",
            "\n",
            "“A day without sunshine is like, you know, night.” :  Steve Martin : humor,obvious,simile\n",
            "\n"
          ]
        }
      ]
    },
    {
      "cell_type": "markdown",
      "source": [
        "##Exerice 2 : Récupérer l'intégralité des informations sur le site. Objectif : Mettre en place un système de requêtes afin d'accéder à l'intégralité des pages du site"
      ],
      "metadata": {
        "id": "61pqjs4-fcYE"
      }
    },
    {
      "cell_type": "code",
      "source": [
        "page = f'{url}/page/'\n",
        "\n",
        "result = requests.get(page) \n",
        "content = result.text    \n",
        "\n",
        "conteneur_li = response_html.find_all('li', class_=\"next\")\n",
        "links = [link['href'] for link in conteneur_li.find('a', href=True)]\n",
        "\n",
        "for link in links:\n",
        "    result = requests.get(f'{page}/{link}')\n",
        "    content = result.text\n",
        "    soup = BeautifulSoup(content, 'lxml')\n",
        "\n",
        "for quotes in conteneur_div:\n",
        "\n",
        "  quote = quotes.find('span', class_='text').text\n",
        "  authors = quotes.find('small', class_='author').text\n",
        "  tags = quotes.find('meta')['content']\n",
        "\n",
        "  quotes_list.append(quote)\n",
        "  authors_list.append(authors)\n",
        "  tags_list.append(tags)\n",
        "  print(quote, ': ',authors, ':', tags); print()   \n"
      ],
      "metadata": {
        "id": "fV76N7mefdai",
        "colab": {
          "base_uri": "https://localhost:8080/",
          "height": 368
        },
        "outputId": "deb42e4c-d9c1-4c37-a230-ca9062588e0e"
      },
      "execution_count": 87,
      "outputs": [
        {
          "output_type": "error",
          "ename": "AttributeError",
          "evalue": "ignored",
          "traceback": [
            "\u001b[0;31m---------------------------------------------------------------------------\u001b[0m",
            "\u001b[0;31mAttributeError\u001b[0m                            Traceback (most recent call last)",
            "\u001b[0;32m<ipython-input-87-7db7e17d7db3>\u001b[0m in \u001b[0;36m<module>\u001b[0;34m()\u001b[0m\n\u001b[1;32m      5\u001b[0m \u001b[0;34m\u001b[0m\u001b[0m\n\u001b[1;32m      6\u001b[0m \u001b[0mconteneur_li\u001b[0m \u001b[0;34m=\u001b[0m \u001b[0mresponse_html\u001b[0m\u001b[0;34m.\u001b[0m\u001b[0mfind_all\u001b[0m\u001b[0;34m(\u001b[0m\u001b[0;34m'li'\u001b[0m\u001b[0;34m,\u001b[0m \u001b[0mclass_\u001b[0m\u001b[0;34m=\u001b[0m\u001b[0;34m\"next\"\u001b[0m\u001b[0;34m)\u001b[0m\u001b[0;34m\u001b[0m\u001b[0;34m\u001b[0m\u001b[0m\n\u001b[0;32m----> 7\u001b[0;31m \u001b[0mlinks\u001b[0m \u001b[0;34m=\u001b[0m \u001b[0;34m[\u001b[0m\u001b[0mlink\u001b[0m\u001b[0;34m[\u001b[0m\u001b[0;34m'href'\u001b[0m\u001b[0;34m]\u001b[0m \u001b[0;32mfor\u001b[0m \u001b[0mlink\u001b[0m \u001b[0;32min\u001b[0m \u001b[0mconteneur_li\u001b[0m\u001b[0;34m.\u001b[0m\u001b[0mfind\u001b[0m\u001b[0;34m(\u001b[0m\u001b[0;34m'a'\u001b[0m\u001b[0;34m,\u001b[0m \u001b[0mhref\u001b[0m\u001b[0;34m=\u001b[0m\u001b[0;32mTrue\u001b[0m\u001b[0;34m)\u001b[0m\u001b[0;34m]\u001b[0m\u001b[0;34m\u001b[0m\u001b[0;34m\u001b[0m\u001b[0m\n\u001b[0m\u001b[1;32m      8\u001b[0m \u001b[0;34m\u001b[0m\u001b[0m\n\u001b[1;32m      9\u001b[0m \u001b[0;32mfor\u001b[0m \u001b[0mlink\u001b[0m \u001b[0;32min\u001b[0m \u001b[0mlinks\u001b[0m\u001b[0;34m:\u001b[0m\u001b[0;34m\u001b[0m\u001b[0;34m\u001b[0m\u001b[0m\n",
            "\u001b[0;32m/usr/local/lib/python3.7/dist-packages/bs4/element.py\u001b[0m in \u001b[0;36m__getattr__\u001b[0;34m(self, key)\u001b[0m\n\u001b[1;32m   1882\u001b[0m     \u001b[0;32mdef\u001b[0m \u001b[0m__getattr__\u001b[0m\u001b[0;34m(\u001b[0m\u001b[0mself\u001b[0m\u001b[0;34m,\u001b[0m \u001b[0mkey\u001b[0m\u001b[0;34m)\u001b[0m\u001b[0;34m:\u001b[0m\u001b[0;34m\u001b[0m\u001b[0;34m\u001b[0m\u001b[0m\n\u001b[1;32m   1883\u001b[0m         raise AttributeError(\n\u001b[0;32m-> 1884\u001b[0;31m             \u001b[0;34m\"ResultSet object has no attribute '%s'. You're probably treating a list of items like a single item. Did you call find_all() when you meant to call find()?\"\u001b[0m \u001b[0;34m%\u001b[0m \u001b[0mkey\u001b[0m\u001b[0;34m\u001b[0m\u001b[0;34m\u001b[0m\u001b[0m\n\u001b[0m\u001b[1;32m   1885\u001b[0m         )\n",
            "\u001b[0;31mAttributeError\u001b[0m: ResultSet object has no attribute 'find'. You're probably treating a list of items like a single item. Did you call find_all() when you meant to call find()?"
          ]
        }
      ]
    },
    {
      "cell_type": "code",
      "source": [
        ""
      ],
      "metadata": {
        "id": "ioj1Kn5r2FAf"
      },
      "execution_count": null,
      "outputs": []
    }
  ]
}