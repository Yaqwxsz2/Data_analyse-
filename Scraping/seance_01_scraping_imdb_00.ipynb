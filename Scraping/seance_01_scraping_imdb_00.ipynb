{
  "nbformat": 4,
  "nbformat_minor": 0,
  "metadata": {
    "colab": {
      "name": "scraping00.ipynb",
      "provenance": []
    },
    "kernelspec": {
      "name": "python3",
      "display_name": "Python 3"
    },
    "language_info": {
      "name": "python"
    }
  },
  "cells": [
    {
      "cell_type": "markdown",
      "source": [
        "# Scraping des 250 films les mieux notés sur le site IMDB\n",
        "\n",
        "1 - Sélectionner l'url à scraper"
      ],
      "metadata": {
        "id": "XJSIkShHnLos"
      }
    },
    {
      "cell_type": "code",
      "source": [
        "import requests\n",
        "\n",
        "url = 'http://www.imdb.com/chart/top'"
      ],
      "metadata": {
        "id": "0tBrYQo-reCe"
      },
      "execution_count": 3,
      "outputs": []
    },
    {
      "cell_type": "markdown",
      "source": [
        "2 - Mise en place de ma requête pour récupérer le code source de la page HTML\n",
        "<br/>Clic droit “View source page”\n",
        "<br/>Plus d’infos sur request : https://fr.python-requests.org/en/latest/ "
      ],
      "metadata": {
        "id": "eW6plLWwrhmi"
      }
    },
    {
      "cell_type": "code",
      "source": [
        "response = requests.get(url)"
      ],
      "metadata": {
        "id": "pzOwb5I1rj9o"
      },
      "execution_count": 4,
      "outputs": []
    },
    {
      "cell_type": "markdown",
      "source": [
        "3 - Parser le résultat de la requête. \n",
        "<br/>Analyse du résultat de la requête en HTML\n",
        "<br/>Ressources : https://beautiful-soup-4.readthedocs.io/en/latest/index.html?highlight=parser#installing-a-parser\n"
      ],
      "metadata": {
        "id": "7OE4AT6DrqMo"
      }
    },
    {
      "cell_type": "code",
      "source": [
        "from bs4 import BeautifulSoup\n",
        "\n",
        "response_html = BeautifulSoup(response.text, 'html.parser')"
      ],
      "metadata": {
        "id": "MCA4IOHn57ZC"
      },
      "execution_count": 5,
      "outputs": []
    },
    {
      "cell_type": "markdown",
      "source": [
        "4 - Sélection du parent direct de notre contenu\n",
        "<br/>Clic droit “Inspect”\n",
        "<br/>Ressources : https://beautiful-soup-4.readthedocs.io/en/latest/index.html?highlight=parser#quick-start\n"
      ],
      "metadata": {
        "id": "-o8clIHWrvj5"
      }
    },
    {
      "cell_type": "code",
      "source": [
        "conteneur_tbody = response_html.find('tbody', class_=\"lister-list\")"
      ],
      "metadata": {
        "id": "U_aAonJ2sPaX"
      },
      "execution_count": 6,
      "outputs": []
    },
    {
      "cell_type": "markdown",
      "source": [
        "5 - Boucle sur chaque enfants afin de cibler les données que nous souhaitons récupérer"
      ],
      "metadata": {
        "id": "UWMn4-Eks1DP"
      }
    },
    {
      "cell_type": "code",
      "source": [
        "movies_in_tr = conteneur_tbody.find_all('tr')\n",
        "\n",
        "for movie in movies_in_tr:\n",
        "\n",
        "  title = movie.find(\"td\", class_=\"titleColumn\").a.text\n",
        "  rating = movie.find(\"td\", class_=\"ratingColumn imdbRating\").strong['title']\n",
        "  print(title, ': ',rating)\n"
      ],
      "metadata": {
        "id": "URhmS12g5-au",
        "colab": {
          "base_uri": "https://localhost:8080/"
        },
        "outputId": "502fc76e-af99-4e6d-e83c-63af64bccf5e"
      },
      "execution_count": 10,
      "outputs": [
        {
          "output_type": "stream",
          "name": "stdout",
          "text": [
            "The Shawshank Redemption :  9.2 based on 2,573,496 user ratings\n",
            "The Godfather :  9.2 based on 1,772,098 user ratings\n",
            "The Dark Knight :  9.0 based on 2,540,224 user ratings\n",
            "The Godfather: Part II :  9.0 based on 1,225,437 user ratings\n",
            "De 12 gezworenen :  8.9 based on 760,062 user ratings\n",
            "Schindler's List :  8.9 based on 1,310,869 user ratings\n",
            "The Lord of the Rings: The Return of the King :  8.9 based on 1,770,061 user ratings\n",
            "Pulp Fiction :  8.9 based on 1,975,230 user ratings\n",
            "The Lord of the Rings: The Fellowship of the Ring :  8.8 based on 1,791,640 user ratings\n",
            "The Good, the Bad and the Ugly :  8.8 based on 739,763 user ratings\n",
            "Forrest Gump :  8.8 based on 1,985,134 user ratings\n",
            "Fight Club :  8.8 based on 2,025,275 user ratings\n",
            "Inception :  8.7 based on 2,258,672 user ratings\n",
            "The Lord of the Rings: The Two Towers :  8.7 based on 1,599,025 user ratings\n",
            "Star Wars: Episode V - The Empire Strikes Back :  8.7 based on 1,244,909 user ratings\n",
            "The Matrix :  8.7 based on 1,851,619 user ratings\n",
            "Goodfellas :  8.7 based on 1,110,424 user ratings\n",
            "One Flew Over the Cuckoo's Nest :  8.6 based on 979,801 user ratings\n",
            "Seven :  8.6 based on 1,578,415 user ratings\n",
            "Shichinin no samurai :  8.6 based on 337,866 user ratings\n",
            "It's a Wonderful Life :  8.6 based on 443,237 user ratings\n",
            "The Silence of the Lambs :  8.6 based on 1,379,488 user ratings\n",
            "Cidade de Deus :  8.6 based on 738,946 user ratings\n",
            "Saving Private Ryan :  8.6 based on 1,340,561 user ratings\n",
            "Het leven is mooi :  8.6 based on 673,884 user ratings\n",
            "The Green Mile :  8.6 based on 1,251,436 user ratings\n",
            "De sterrenoorlogen :  8.6 based on 1,316,393 user ratings\n",
            "Interstellar :  8.6 based on 1,717,636 user ratings\n",
            "Terminator 2: Judgment Day :  8.5 based on 1,064,092 user ratings\n",
            "Terug naar de toekomst :  8.5 based on 1,155,119 user ratings\n",
            "Spirited Away :  8.5 based on 727,661 user ratings\n",
            "Psycho :  8.5 based on 650,754 user ratings\n",
            "The Pianist :  8.5 based on 801,591 user ratings\n",
            "Léon :  8.5 based on 1,121,755 user ratings\n",
            "Gisaengchung :  8.5 based on 734,670 user ratings\n",
            "The Lion King :  8.5 based on 1,019,249 user ratings\n",
            "American History X :  8.5 based on 1,093,041 user ratings\n",
            "Gladiator :  8.5 based on 1,447,790 user ratings\n",
            "The Usual Suspects :  8.5 based on 1,057,337 user ratings\n",
            "The Departed :  8.5 based on 1,280,758 user ratings\n",
            "The Prestige :  8.5 based on 1,288,613 user ratings\n",
            "Casablanca :  8.5 based on 557,697 user ratings\n",
            "Whiplash :  8.5 based on 803,069 user ratings\n",
            "The Intouchables :  8.5 based on 827,871 user ratings\n",
            "Modern Times :  8.5 based on 236,326 user ratings\n",
            "Once Upon a Time in the West :  8.4 based on 322,368 user ratings\n",
            "Seppuku :  8.4 based on 53,365 user ratings\n",
            "Hotaru no haka :  8.4 based on 265,147 user ratings\n",
            "Rear Window :  8.4 based on 478,938 user ratings\n",
            "Alien :  8.4 based on 850,033 user ratings\n",
            "City Lights :  8.4 based on 180,981 user ratings\n",
            "Nuovo Cinema Paradiso :  8.4 based on 253,483 user ratings\n",
            "Memento :  8.4 based on 1,203,092 user ratings\n",
            "Apocalypse Now :  8.4 based on 648,456 user ratings\n",
            "Indiana Jones and the Raiders of the Lost Ark :  8.4 based on 940,495 user ratings\n",
            "Django Unchained :  8.4 based on 1,487,547 user ratings\n",
            "WALL·E :  8.4 based on 1,079,142 user ratings\n",
            "Das Leben der Anderen :  8.4 based on 382,118 user ratings\n",
            "Sunset Boulevard :  8.4 based on 216,843 user ratings\n",
            "Het veld van eer :  8.4 based on 192,573 user ratings\n",
            "The Shining :  8.4 based on 980,407 user ratings\n",
            "De dictator :  8.4 based on 219,391 user ratings\n",
            "Witness for the Prosecution :  8.4 based on 121,499 user ratings\n",
            "Avengers: Infinity War :  8.4 based on 1,002,790 user ratings\n",
            "Aliens :  8.3 based on 697,111 user ratings\n",
            "American Beauty :  8.3 based on 1,128,872 user ratings\n",
            "Dr. Strangelove or: How I Learned to Stop Worrying and Love the Bomb :  8.3 based on 478,620 user ratings\n",
            "The Dark Knight Rises :  8.3 based on 1,643,941 user ratings\n",
            "Spider-Man: Een nieuw universum :  8.3 based on 483,529 user ratings\n",
            "Joker :  8.3 based on 1,177,339 user ratings\n",
            "Oldeuboi :  8.3 based on 559,505 user ratings\n",
            "Braveheart :  8.3 based on 1,013,853 user ratings\n",
            "Amadeus :  8.3 based on 392,286 user ratings\n",
            "Toy Story :  8.3 based on 959,306 user ratings\n",
            "Das Boot :  8.3 based on 246,343 user ratings\n",
            "Coco :  8.3 based on 472,561 user ratings\n",
            "Inglourious Basterds :  8.3 based on 1,387,482 user ratings\n",
            "Mononoke-hime :  8.3 based on 380,082 user ratings\n",
            "Once Upon a Time in America :  8.3 based on 341,389 user ratings\n",
            "Avengers: Endgame :  8.3 based on 1,038,459 user ratings\n",
            "Good Will Hunting :  8.3 based on 933,450 user ratings\n",
            "Spider-Man: No Way Home :  8.3 based on 586,193 user ratings\n",
            "Requiem for a Dream :  8.3 based on 817,936 user ratings\n",
            "Toy Story 3 :  8.3 based on 810,431 user ratings\n",
            "Singin' in the Rain :  8.3 based on 236,054 user ratings\n",
            "Kimi no na wa. :  8.3 based on 247,252 user ratings\n",
            "Star Wars: Episode VI - Return of the Jedi :  8.3 based on 1,017,251 user ratings\n",
            "3 Idiots :  8.3 based on 383,817 user ratings\n",
            "2001: Een zwerftocht in de ruimte :  8.3 based on 649,128 user ratings\n",
            "Reservoir Dogs :  8.3 based on 986,895 user ratings\n",
            "Eternal Sunshine of the Spotless Mind :  8.3 based on 977,074 user ratings\n",
            "Tengoku to jigoku :  8.3 based on 42,390 user ratings\n",
            "Citizen Kane :  8.3 based on 432,987 user ratings\n",
            "Capharnaüm :  8.3 based on 83,789 user ratings\n",
            "Lawrence of Arabia :  8.3 based on 287,035 user ratings\n",
            "M - Eine Stadt sucht einen Mörder :  8.3 based on 154,734 user ratings\n",
            "North by Northwest :  8.3 based on 320,566 user ratings\n",
            "Jagten :  8.3 based on 317,777 user ratings\n",
            "Vertigo :  8.2 based on 393,181 user ratings\n",
            "Le fabuleux destin d'Amélie Poulain :  8.2 based on 741,185 user ratings\n",
            "A Clockwork Orange :  8.2 based on 807,059 user ratings\n",
            "Idi i smotri :  8.2 based on 74,130 user ratings\n",
            "Full Metal Jacket :  8.2 based on 721,393 user ratings\n",
            "Double Indemnity :  8.2 based on 153,791 user ratings\n",
            "Het appartement :  8.2 based on 177,498 user ratings\n",
            "Scarface :  8.2 based on 807,224 user ratings\n",
            "Taxi Driver :  8.2 based on 792,175 user ratings\n",
            "To Kill a Mockingbird :  8.2 based on 310,869 user ratings\n",
            "The Sting :  8.2 based on 256,716 user ratings\n",
            "Hamilton :  8.2 based on 85,711 user ratings\n",
            "Ikiru :  8.2 based on 76,376 user ratings\n",
            "L.A. Confidential :  8.2 based on 569,470 user ratings\n",
            "Up :  8.2 based on 1,009,751 user ratings\n",
            "Heat :  8.2 based on 631,133 user ratings\n",
            "Metropolis :  8.2 based on 171,014 user ratings\n",
            "Snatch :  8.2 based on 833,858 user ratings\n",
            "A Separation :  8.2 based on 240,491 user ratings\n",
            "Die Hard :  8.2 based on 854,598 user ratings\n",
            "Indiana Jones and the Last Crusade :  8.2 based on 735,861 user ratings\n",
            "Ladri di biciclette :  8.2 based on 160,202 user ratings\n",
            "Incendies :  8.2 based on 171,042 user ratings\n",
            "1917 :  8.2 based on 544,008 user ratings\n",
            "Taare Zameen Par :  8.2 based on 187,670 user ratings\n",
            "Der Untergang :  8.2 based on 349,261 user ratings\n",
            "For a Few Dollars More :  8.2 based on 250,639 user ratings\n",
            "Batman Begins :  8.2 based on 1,419,255 user ratings\n",
            "Dangal :  8.2 based on 181,280 user ratings\n",
            "The Kid :  8.2 based on 124,072 user ratings\n",
            "Some Like It Hot :  8.2 based on 261,338 user ratings\n",
            "The Father :  8.2 based on 132,016 user ratings\n",
            "All About Eve :  8.2 based on 129,174 user ratings\n",
            "Green Book :  8.2 based on 460,143 user ratings\n",
            "The Wolf of Wall Street :  8.2 based on 1,332,756 user ratings\n",
            "Oordeel te Neurenberg :  8.2 based on 75,970 user ratings\n",
            "Unforgiven :  8.2 based on 402,690 user ratings\n",
            "Pan's Labyrinth :  8.2 based on 654,202 user ratings\n",
            "Casino :  8.2 based on 503,980 user ratings\n",
            "Ran :  8.2 based on 122,860 user ratings\n",
            "The Batman :  8.2 based on 325,971 user ratings\n",
            "Monty Python and the Holy Grail :  8.2 based on 529,801 user ratings\n",
            "A Beautiful Mind :  8.2 based on 906,902 user ratings\n",
            "The Sixth Sense :  8.2 based on 965,714 user ratings\n",
            "There Will Be Blood :  8.2 based on 567,125 user ratings\n",
            "Yôjinbô :  8.1 based on 120,408 user ratings\n",
            "The Truman Show :  8.1 based on 1,030,101 user ratings\n",
            "The Treasure of the Sierra Madre :  8.1 based on 122,690 user ratings\n",
            "Rashômon :  8.1 based on 164,885 user ratings\n",
            "The Great Escape :  8.1 based on 239,991 user ratings\n",
            "Shutter Island :  8.1 based on 1,251,303 user ratings\n",
            "Kill Bill: Vol. 1 :  8.1 based on 1,079,673 user ratings\n",
            "Jurassic Park :  8.1 based on 941,355 user ratings\n",
            "No Country for Old Men :  8.1 based on 937,183 user ratings\n",
            "The Elephant Man :  8.1 based on 236,220 user ratings\n",
            "Raging Bull :  8.1 based on 344,884 user ratings\n",
            "Finding Nemo :  8.1 based on 1,013,275 user ratings\n",
            "Chinatown :  8.1 based on 318,530 user ratings\n",
            "Gejaagd door de wind :  8.1 based on 309,157 user ratings\n",
            "V for Vendetta :  8.1 based on 1,095,661 user ratings\n",
            "Binnenstebuiten :  8.1 based on 683,922 user ratings\n",
            "Lock, Stock and Two Smoking Barrels :  8.1 based on 569,237 user ratings\n",
            "The Thing :  8.1 based on 407,710 user ratings\n",
            "Dial M for Murder :  8.1 based on 171,790 user ratings\n",
            "El secreto de sus ojos :  8.1 based on 205,723 user ratings\n",
            "The Bridge on the River Kwai :  8.1 based on 216,404 user ratings\n",
            "Hauru no ugoku shiro :  8.1 based on 376,723 user ratings\n",
            "Trainspotting :  8.1 based on 671,772 user ratings\n",
            "Three Billboards Outside Ebbing, Missouri :  8.1 based on 487,488 user ratings\n",
            "Gran Torino :  8.1 based on 759,472 user ratings\n",
            "Warrior :  8.1 based on 461,914 user ratings\n",
            "Fargo :  8.1 based on 661,776 user ratings\n",
            "Tonari no Totoro :  8.1 based on 325,605 user ratings\n",
            "Prisoners :  8.1 based on 675,066 user ratings\n",
            "Million Dollar Baby :  8.1 based on 673,365 user ratings\n",
            "The Gold Rush :  8.1 based on 109,358 user ratings\n",
            "Blade Runner :  8.1 based on 745,933 user ratings\n",
            "On the Waterfront :  8.1 based on 152,205 user ratings\n",
            "Catch Me If You Can :  8.1 based on 933,331 user ratings\n",
            "The Third Man :  8.1 based on 168,980 user ratings\n",
            "Bacheha-Ye aseman :  8.1 based on 73,203 user ratings\n",
            "The General :  8.1 based on 89,539 user ratings\n",
            "Ben Hur :  8.1 based on 234,463 user ratings\n",
            "12 Years a Slave :  8.1 based on 683,550 user ratings\n",
            "Smultronstället :  8.1 based on 105,265 user ratings\n",
            "Gone Girl :  8.1 based on 946,663 user ratings\n",
            "The Deer Hunter :  8.1 based on 332,619 user ratings\n",
            "Before Sunrise :  8.1 based on 297,213 user ratings\n",
            "In the Name of the Father :  8.1 based on 170,855 user ratings\n",
            "Harry Potter and the Deathly Hallows: Part 2 :  8.1 based on 841,266 user ratings\n",
            "Mr. Smith Goes to Washington :  8.1 based on 114,006 user ratings\n",
            "The Grand Budapest Hotel :  8.1 based on 777,311 user ratings\n",
            "Het loon van de Angst :  8.1 based on 59,829 user ratings\n",
            "Sherlock Jr. :  8.1 based on 48,238 user ratings\n",
            "Room :  8.1 based on 407,052 user ratings\n",
            "Barry Lyndon :  8.1 based on 163,411 user ratings\n",
            "Salinui chueok :  8.1 based on 171,099 user ratings\n",
            "Det sjunde inseglet :  8.1 based on 181,142 user ratings\n",
            "Hacksaw Ridge :  8.1 based on 498,388 user ratings\n",
            "Relatos salvajes :  8.1 based on 192,874 user ratings\n",
            "Klaus :  8.1 based on 140,766 user ratings\n",
            "The Big Lebowski :  8.1 based on 787,790 user ratings\n",
            "Pather Panchali :  8.1 based on 31,137 user ratings\n",
            "How to Train Your Dragon :  8.1 based on 716,586 user ratings\n",
            "Mad Max: Fury Road :  8.1 based on 964,279 user ratings\n",
            "Mary and Max. :  8.1 based on 174,472 user ratings\n",
            "La passion de Jeanne d'Arc :  8.1 based on 53,288 user ratings\n",
            "De zomer van de witte haai :  8.1 based on 580,126 user ratings\n",
            "Monsters, Inc. :  8.1 based on 879,405 user ratings\n",
            "Hotel Rwanda :  8.1 based on 350,167 user ratings\n",
            "Tôkyô monogatari :  8.1 based on 60,031 user ratings\n",
            "Dead Poets Society :  8.1 based on 469,327 user ratings\n",
            "Platoon :  8.0 based on 405,286 user ratings\n",
            "Rocky :  8.0 based on 557,716 user ratings\n",
            "Le Mans '66 :  8.0 based on 362,865 user ratings\n",
            "Stand by Me :  8.0 based on 391,629 user ratings\n",
            "De uitroeier :  8.0 based on 838,674 user ratings\n",
            "Rush :  8.0 based on 466,707 user ratings\n",
            "Into the Wild :  8.0 based on 610,247 user ratings\n",
            "Spotlight :  8.0 based on 457,626 user ratings\n",
            "Network :  8.0 based on 156,463 user ratings\n",
            "The Wizard of Oz :  8.0 based on 388,295 user ratings\n",
            "Logan :  8.0 based on 723,923 user ratings\n",
            "Groundhog Day :  8.0 based on 612,017 user ratings\n",
            "Ratatouille :  8.0 based on 698,080 user ratings\n",
            "The Exorcist :  8.0 based on 389,951 user ratings\n",
            "Before Sunset :  8.0 based on 256,093 user ratings\n",
            "De beste jaren van ons leven :  8.0 based on 62,792 user ratings\n",
            "De slag om Algiers :  8.0 based on 58,817 user ratings\n",
            "The Incredibles :  8.0 based on 705,579 user ratings\n",
            "Rebecca :  8.0 based on 134,632 user ratings\n",
            "Spionnage in het spel :  8.0 based on 35,757 user ratings\n",
            "The Grapes of Wrath :  8.0 based on 91,261 user ratings\n",
            "Cool Hand Luke :  8.0 based on 174,028 user ratings\n",
            "Amores perros :  8.0 based on 236,666 user ratings\n",
            "Dersu Uzala :  8.0 based on 27,951 user ratings\n",
            "Hachi :  8.0 based on 276,485 user ratings\n",
            "Babam ve Oglum :  8.0 based on 85,347 user ratings\n",
            "Les quatre cents coups :  8.0 based on 115,088 user ratings\n",
            "Monty Python's Life of Brian :  8.0 based on 391,408 user ratings\n",
            "Persona :  8.0 based on 115,021 user ratings\n",
            "La haine :  8.0 based on 167,297 user ratings\n",
            "Pirates of the Caribbean: The Curse of the Black Pearl :  8.0 based on 1,073,180 user ratings\n",
            "Het gebeurde op 'n avond :  8.0 based on 101,837 user ratings\n",
            "The Sound of Music :  8.0 based on 224,973 user ratings\n",
            "Ah-ga-ssi :  8.0 based on 137,293 user ratings\n",
            "Gandhi :  8.0 based on 227,245 user ratings\n",
            "Aladdin :  8.0 based on 400,245 user ratings\n",
            "The Help :  8.0 based on 448,187 user ratings\n",
            "Belle en het Beest :  8.0 based on 439,887 user ratings\n",
            "Dune :  8.0 based on 542,946 user ratings\n",
            "Du rififi chez les hommes :  8.0 based on 33,570 user ratings\n"
          ]
        }
      ]
    },
    {
      "cell_type": "code",
      "source": [
        ""
      ],
      "metadata": {
        "id": "nEeLk2jFawE0"
      },
      "execution_count": null,
      "outputs": []
    }
  ]
}