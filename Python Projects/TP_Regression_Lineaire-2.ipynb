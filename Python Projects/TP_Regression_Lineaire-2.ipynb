{
  "nbformat": 4,
  "nbformat_minor": 0,
  "metadata": {
    "colab": {
      "name": "TP_Regression_Lineaire.ipynb",
      "provenance": [],
      "collapsed_sections": []
    },
    "kernelspec": {
      "name": "python3",
      "display_name": "Python 3"
    },
    "language_info": {
      "name": "python"
    }
  },
  "cells": [
    {
      "cell_type": "markdown",
      "source": [
        "**Notebook régression**"
      ],
      "metadata": {
        "id": "yNLXyLfHLftS"
      }
    },
    {
      "cell_type": "markdown",
      "source": [
        "# Importer les données :"
      ],
      "metadata": {
        "id": "prksVnjLL5Tu"
      }
    },
    {
      "cell_type": "code",
      "source": [
        "import pandas as pd \n",
        "import matplotlib.pyplot as plt          \n",
        "import numpy as np\n",
        "from scipy.stats import linregress"
      ],
      "metadata": {
        "id": "emwLypQXL-T4"
      },
      "execution_count": 2,
      "outputs": []
    },
    {
      "cell_type": "code",
      "source": [
        "#!pip install pandas"
      ],
      "metadata": {
        "id": "vQah39smMDou"
      },
      "execution_count": null,
      "outputs": []
    },
    {
      "cell_type": "code",
      "source": [
        "df= pd.read_excel(\"Donnees_d'entree.xlsx\")"
      ],
      "metadata": {
        "id": "78F66N6bMO9Z"
      },
      "execution_count": 7,
      "outputs": []
    },
    {
      "cell_type": "code",
      "source": [
        "X = list(df['Tableau 1'].values)\n",
        "X"
      ],
      "metadata": {
        "colab": {
          "base_uri": "https://localhost:8080/"
        },
        "id": "iNwHJQv3Ph2d",
        "outputId": "1d04b088-ca3e-4ff0-e537-4ade5c1a8f3d"
      },
      "execution_count": 8,
      "outputs": [
        {
          "output_type": "execute_result",
          "data": {
            "text/plain": [
              "['X_fils', 68, 66, 68, 65, 69, 66, 68, 65, 71, 67, 68, 70]"
            ]
          },
          "metadata": {},
          "execution_count": 8
        }
      ]
    },
    {
      "cell_type": "code",
      "source": [
        "X = list(df['Tableau 1'].values)\n",
        "X=X[1:]\n",
        "Y = list(df[\"Unnamed: 1\"].values)\n",
        "Y = Y[1:]"
      ],
      "metadata": {
        "id": "tw7wbK6_Mn5a"
      },
      "execution_count": 9,
      "outputs": []
    },
    {
      "cell_type": "code",
      "source": [
        "X = [int(x) for x in X]\n",
        "X"
      ],
      "metadata": {
        "colab": {
          "base_uri": "https://localhost:8080/"
        },
        "id": "hnmUi2MTPFtm",
        "outputId": "24d5b554-74ab-43b8-9c5b-6c1cb4c8f285"
      },
      "execution_count": 10,
      "outputs": [
        {
          "output_type": "execute_result",
          "data": {
            "text/plain": [
              "[68, 66, 68, 65, 69, 66, 68, 65, 71, 67, 68, 70]"
            ]
          },
          "metadata": {},
          "execution_count": 10
        }
      ]
    },
    {
      "cell_type": "code",
      "source": [
        "Y= [int(x) for x in Y]\n",
        "Y"
      ],
      "metadata": {
        "colab": {
          "base_uri": "https://localhost:8080/"
        },
        "id": "9qihcrIhPQv5",
        "outputId": "e8735a49-7756-47b8-e746-ad97980192eb"
      },
      "execution_count": 11,
      "outputs": [
        {
          "output_type": "execute_result",
          "data": {
            "text/plain": [
              "[65, 63, 67, 64, 68, 62, 70, 66, 68, 67, 69, 71]"
            ]
          },
          "metadata": {},
          "execution_count": 11
        }
      ]
    },
    {
      "cell_type": "markdown",
      "source": [
        "# Implémentation de la méthode des moindres carrés : "
      ],
      "metadata": {
        "id": "4PDdQxt1Py0c"
      }
    },
    {
      "cell_type": "code",
      "source": [
        "def regLin(x, y):\n",
        "    \"\"\"\n",
        "    Ajuste une droite d'équation a*x + b sur les points (x, y) par la méthode\n",
        "    des moindres carrés.\n",
        "\n",
        "    Args :\n",
        "        * x (list): valeurs de x\n",
        "        * y (list): valeurs de y\n",
        "\n",
        "    Return:\n",
        "        * a (float): pente de la droite\n",
        "        * b (float): ordonnée à l'origine\n",
        "    \"\"\"\n",
        "    # initialisation des sommes\n",
        "    x_sum = 0.\n",
        "    x2_sum = 0.\n",
        "    y_sum = 0.\n",
        "    xy_sum = 0.\n",
        "    # calcul des sommes\n",
        "    for xi, yi in zip(x, y):\n",
        "        x_sum += xi\n",
        "        x2_sum += xi**2\n",
        "        y_sum += yi\n",
        "        xy_sum += xi * yi\n",
        "    # nombre de points\n",
        "    npoints = len(x)\n",
        "    # calcul des paramétras\n",
        "    a = (npoints * xy_sum - x_sum * y_sum) / (npoints * x2_sum - x_sum**2)\n",
        "    b = (x2_sum * y_sum - x_sum * xy_sum) / (npoints * x2_sum - x_sum**2)\n",
        "    # renvoie des parametres\n",
        "    return a, b"
      ],
      "metadata": {
        "id": "_HYgOIoZP3G8"
      },
      "execution_count": 12,
      "outputs": []
    },
    {
      "cell_type": "code",
      "source": [
        "regLin(X,Y)"
      ],
      "metadata": {
        "colab": {
          "base_uri": "https://localhost:8080/"
        },
        "id": "PRXXfBfVQLkK",
        "outputId": "4b2b0aef-7dd4-4f89-e75b-cc2e6d5a6d55"
      },
      "execution_count": 13,
      "outputs": [
        {
          "output_type": "execute_result",
          "data": {
            "text/plain": [
              "(1.0364025695931478, -3.3768736616702357)"
            ]
          },
          "metadata": {},
          "execution_count": 13
        }
      ]
    },
    {
      "cell_type": "markdown",
      "source": [
        "- Implémenter une fonction qui calcule cov(x,y)\n",
        "- Implementer une fonction qui calcule Var(x)\n",
        "- Implémenter une fonction qui calcule Moyenne (x) et Moyenne(y)\n",
        "- Implémenter une fonction qui calcule les coefficients de régression linéaire par la méthode des moindres carrés"
      ],
      "metadata": {
        "id": "6vmVIhGUQ_lT"
      }
    },
    {
      "cell_type": "code",
      "source": [
        "def moyenne(X):\n",
        "  X=np.array(X)\n",
        "  return X.mean()\n"
      ],
      "metadata": {
        "id": "RvW4gtY7QO0g"
      },
      "execution_count": 14,
      "outputs": []
    },
    {
      "cell_type": "code",
      "source": [
        "moyX = moyenne(X)\n",
        "moyX"
      ],
      "metadata": {
        "colab": {
          "base_uri": "https://localhost:8080/"
        },
        "id": "eJAZQkmmWcv8",
        "outputId": "458fead2-3ae2-4156-b8d9-a02b9406d77e"
      },
      "execution_count": 47,
      "outputs": [
        {
          "output_type": "execute_result",
          "data": {
            "text/plain": [
              "67.58333333333333"
            ]
          },
          "metadata": {},
          "execution_count": 47
        }
      ]
    },
    {
      "cell_type": "code",
      "source": [
        "def Xcarre(X):\n",
        "  X=np.array(X)\n",
        "  Xcarre = []\n",
        "  for n in X:\n",
        "    Xcarre.append(n**2)\n",
        "  return np.average(Xcarre)"
      ],
      "metadata": {
        "id": "r5GX7Qduo2h4"
      },
      "execution_count": 122,
      "outputs": []
    },
    {
      "cell_type": "code",
      "source": [
        "moyXcarre = Xcarre(X)\n",
        "moyXcarre"
      ],
      "metadata": {
        "colab": {
          "base_uri": "https://localhost:8080/"
        },
        "id": "ozrkFNy0pZQC",
        "outputId": "60988577-46f8-424a-81b8-e517ee19f6e5"
      },
      "execution_count": 124,
      "outputs": [
        {
          "output_type": "execute_result",
          "data": {
            "text/plain": [
              "4570.75"
            ]
          },
          "metadata": {},
          "execution_count": 124
        }
      ]
    },
    {
      "cell_type": "code",
      "source": [
        "def moyenne(Y):\n",
        "  Y=np.array(Y)\n",
        "  return Y.mean()\n"
      ],
      "metadata": {
        "id": "WkXRN_AkKIYT"
      },
      "execution_count": 37,
      "outputs": []
    },
    {
      "cell_type": "code",
      "source": [
        "moyY= moyenne(Y)\n",
        "moyY"
      ],
      "metadata": {
        "colab": {
          "base_uri": "https://localhost:8080/"
        },
        "id": "24q4UbZoKY1t",
        "outputId": "0643467d-1451-49cf-fc20-586a57cc7b50"
      },
      "execution_count": 48,
      "outputs": [
        {
          "output_type": "execute_result",
          "data": {
            "text/plain": [
              "66.66666666666667"
            ]
          },
          "metadata": {},
          "execution_count": 48
        }
      ]
    },
    {
      "cell_type": "code",
      "source": [
        "def moyenneProduit(X,Y):\n",
        "  X= np.array(X)\n",
        "  Y= np.array(Y)\n",
        "  L=X*Y\n",
        "  return L.mean()"
      ],
      "metadata": {
        "id": "fUY1UEPZW9E6"
      },
      "execution_count": 16,
      "outputs": []
    },
    {
      "cell_type": "code",
      "source": [
        "moyXY = moyenneProduit(X,Y)\n",
        "moyXY"
      ],
      "metadata": {
        "colab": {
          "base_uri": "https://localhost:8080/"
        },
        "id": "tSzZkD9IkcZe",
        "outputId": "80f12448-e319-4692-bdd8-b60126d835db"
      },
      "execution_count": 53,
      "outputs": [
        {
          "output_type": "execute_result",
          "data": {
            "text/plain": [
              "4508.916666666667"
            ]
          },
          "metadata": {},
          "execution_count": 53
        }
      ]
    },
    {
      "cell_type": "code",
      "source": [
        "def varX(X):\n",
        "  X= np.array(X)\n",
        "  vari = np.var(X)\n",
        "  return vari"
      ],
      "metadata": {
        "id": "9mCHivAiKsO_"
      },
      "execution_count": 49,
      "outputs": []
    },
    {
      "cell_type": "code",
      "source": [
        "varianceX = varX(X)\n",
        "varianceX"
      ],
      "metadata": {
        "colab": {
          "base_uri": "https://localhost:8080/"
        },
        "id": "DQ4xz4mwOFd_",
        "outputId": "fc21ce96-1dd8-4a30-abc4-f74bca7e0186"
      },
      "execution_count": 50,
      "outputs": [
        {
          "output_type": "execute_result",
          "data": {
            "text/plain": [
              "3.2430555555555554"
            ]
          },
          "metadata": {},
          "execution_count": 50
        }
      ]
    },
    {
      "cell_type": "code",
      "source": [
        "def covariance(X,Y):\n",
        "  return moyenneProduit(X,Y)-moyenne(X)*moyenne(Y)"
      ],
      "metadata": {
        "id": "D6v7lc2QXjRv"
      },
      "execution_count": 17,
      "outputs": []
    },
    {
      "cell_type": "code",
      "source": [
        "covXY= covariance(X,Y)\n",
        "covXY"
      ],
      "metadata": {
        "colab": {
          "base_uri": "https://localhost:8080/"
        },
        "id": "gX7nTDgnXvLb",
        "outputId": "9c0e1ce1-f098-401a-c7ee-f20092dd83ee"
      },
      "execution_count": 51,
      "outputs": [
        {
          "output_type": "execute_result",
          "data": {
            "text/plain": [
              "3.361111111111313"
            ]
          },
          "metadata": {},
          "execution_count": 51
        }
      ]
    },
    {
      "cell_type": "code",
      "source": [
        "def ecartype(X):\n",
        "  X= np.array(X)\n",
        "  return X.std()"
      ],
      "metadata": {
        "id": "b1kziUfMX7F2"
      },
      "execution_count": 19,
      "outputs": []
    },
    {
      "cell_type": "code",
      "source": [
        "ecartX = ecartype(X)\n",
        "ecartX"
      ],
      "metadata": {
        "colab": {
          "base_uri": "https://localhost:8080/"
        },
        "id": "aK1ptHT-YHSJ",
        "outputId": "409e5b85-022b-422c-fcc2-a8ef84370dfd"
      },
      "execution_count": 52,
      "outputs": [
        {
          "output_type": "execute_result",
          "data": {
            "text/plain": [
              "1.8008485654145256"
            ]
          },
          "metadata": {},
          "execution_count": 52
        }
      ]
    },
    {
      "cell_type": "code",
      "source": [
        "def regressionlin(X,Y):\n",
        "  arrayX= np.array(X)\n",
        "  arrayY= np.array(Y)\n",
        "  a = moyXY - moyX * moyY / moyXcarre - moyX**2\n",
        "  b = moyY - a * moyX\n",
        "  return a,b"
      ],
      "metadata": {
        "id": "du7QPW7bYPOy"
      },
      "execution_count": 131,
      "outputs": []
    },
    {
      "cell_type": "code",
      "source": [
        "regLin = regressionlin(X,Y)\n",
        "regLin"
      ],
      "metadata": {
        "colab": {
          "base_uri": "https://localhost:8080/"
        },
        "id": "anyqf6YbUw-9",
        "outputId": "d4168eeb-7ec4-4644-f31c-bc71212eb0cc"
      },
      "execution_count": 127,
      "outputs": [
        {
          "output_type": "execute_result",
          "data": {
            "text/plain": [
              "(-59.57601437583071, 4093.0123048998917)"
            ]
          },
          "metadata": {},
          "execution_count": 127
        }
      ]
    },
    {
      "cell_type": "markdown",
      "source": [
        "# Méthodes Python pour la régression linéaire :"
      ],
      "metadata": {
        "id": "RgjEDSd4RSYV"
      }
    },
    {
      "cell_type": "markdown",
      "source": [
        "- Numpy\n",
        "- Scipy\n",
        "- Scikit Learn "
      ],
      "metadata": {
        "id": "oz68IlzkRXjE"
      }
    },
    {
      "cell_type": "code",
      "source": [
        "#Methode polyfit\n",
        "parametre= np.polyfit(X,Y,1)\n",
        "parametre"
      ],
      "metadata": {
        "id": "HJDQfwO6RcyU",
        "colab": {
          "base_uri": "https://localhost:8080/"
        },
        "outputId": "3cfbdad9-b893-43fa-c592-467851b13308"
      },
      "execution_count": 26,
      "outputs": [
        {
          "output_type": "execute_result",
          "data": {
            "text/plain": [
              "array([ 1.03640257, -3.37687366])"
            ]
          },
          "metadata": {},
          "execution_count": 26
        }
      ]
    },
    {
      "cell_type": "code",
      "source": [
        "#Methode linregress\n",
        "a, b, r, p_value, std_err = linregress(X, Y)\n",
        "print(\"a   ={:8.3f}\\nb   ={:8.3f}\\nr^2 ={:8.5f}\".format(a, b, r**2))"
      ],
      "metadata": {
        "colab": {
          "base_uri": "https://localhost:8080/"
        },
        "id": "6KY5GbJlcuxX",
        "outputId": "4c0b54c4-08b0-4db3-f8da-e0775b502fa0"
      },
      "execution_count": 27,
      "outputs": [
        {
          "output_type": "stream",
          "name": "stdout",
          "text": [
            "a   =   1.036\n",
            "b   =  -3.377\n",
            "r^2 = 0.49372\n"
          ]
        }
      ]
    },
    {
      "cell_type": "code",
      "source": [
        "#Methode LinearRegression\n",
        "from sklearn.model_selection import train_test_split\n",
        "X_train, X_test, y_train, y_test = train_test_split(X, Y, test_size=0.2, random_state=0)"
      ],
      "metadata": {
        "id": "fkannVfRA_Ey"
      },
      "execution_count": 31,
      "outputs": []
    },
    {
      "cell_type": "code",
      "source": [
        "from sklearn.linear_model import LinearRegression\n",
        "X_train = np.array(X_train)\n",
        "X_test = np.array(X_train)\n",
        "\n",
        "X_train = X_train.reshape(-1,1)\n",
        "X_test = X_test.reshape(-1,1)\n",
        "\n",
        "regressor = LinearRegression()\n",
        "regressor.fit(X_train, y_train)"
      ],
      "metadata": {
        "colab": {
          "base_uri": "https://localhost:8080/"
        },
        "id": "3aJrovGpBewX",
        "outputId": "de778a54-41d8-43db-c88b-0e85a5fe2ca5"
      },
      "execution_count": 34,
      "outputs": [
        {
          "output_type": "execute_result",
          "data": {
            "text/plain": [
              "LinearRegression()"
            ]
          },
          "metadata": {},
          "execution_count": 34
        }
      ]
    },
    {
      "cell_type": "code",
      "source": [
        "print(regressor.intercept_)"
      ],
      "metadata": {
        "colab": {
          "base_uri": "https://localhost:8080/"
        },
        "id": "KCCVrGKaJEKL",
        "outputId": "2dc0d8b1-8e27-478a-b396-bad1bb948243"
      },
      "execution_count": 35,
      "outputs": [
        {
          "output_type": "stream",
          "name": "stdout",
          "text": [
            "13.784615384615385\n"
          ]
        }
      ]
    },
    {
      "cell_type": "code",
      "source": [
        "print(regressor.coef_)"
      ],
      "metadata": {
        "colab": {
          "base_uri": "https://localhost:8080/"
        },
        "id": "9hWfU8uEJGsy",
        "outputId": "349631a8-0e39-4445-b7b7-271fab87ea68"
      },
      "execution_count": 36,
      "outputs": [
        {
          "output_type": "stream",
          "name": "stdout",
          "text": [
            "[0.77307692]\n"
          ]
        }
      ]
    }
  ]
}