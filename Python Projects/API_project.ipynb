{
  "nbformat": 4,
  "nbformat_minor": 0,
  "metadata": {
    "colab": {
      "name": "API_project.ipynb",
      "provenance": []
    },
    "kernelspec": {
      "name": "python3",
      "display_name": "Python 3"
    },
    "language_info": {
      "name": "python"
    }
  },
  "cells": [
    {
      "cell_type": "code",
      "source": [
        "from requests import Request, Session\n",
        "from requests.exceptions import ConnectionError, Timeout, TooManyRedirects\n",
        "import json\n",
        "import pandas as pd"
      ],
      "metadata": {
        "id": "5FwUKnR9DsQG"
      },
      "execution_count": 5,
      "outputs": []
    },
    {
      "cell_type": "code",
      "source": [
        "def api_runner():\n",
        "  global df\n",
        "  url = 'https://pro-api.coinmarket.com/v1/cryptocurrency/listings/latest'\n",
        "  parameters = {\n",
        "    'start':'1',\n",
        "    'limit':'15',\n",
        "    'convert':'USD'\n",
        "  }\n",
        "  headers = {\n",
        "    'Accepts': 'application/json',\n",
        "    'X-CMC_PRO_API_KEY': 'af830f21-9e21-4b41-9aa6-d9734804a01b',\n",
        "  }\n",
        "\n",
        "  session = Session()\n",
        "  session.headers.update(headers)\n",
        "\n",
        "  try:\n",
        "    response = session.get(url, params=parameters)\n",
        "    data = json.loads(response.text)\n",
        "  except (ConnectionError, Timeout, TooManyRedirects) as e:\n",
        "    print(e)\n",
        "\n",
        "  df = pd.json_normalize(data['data'])\n",
        "  df['timestamp'] = pd.to_datetime('now')\n",
        "  df \n",
        "\n",
        "  if not os.path.isfile(r'/Users/giovannicruisevigouroux/Downloads/API.csv'):\n",
        "    df.to_csv(r'/Users/giovannicruisevigouroux/Downloads/API.csv', header = 'column_names')\n",
        "  else:\n",
        "    df.to_csv(r'/Users/giovannicruisevigouroux/Downloads/API.csv', mode = 'a', header = False)"
      ],
      "metadata": {
        "id": "xp2JQPOFCcO9"
      },
      "execution_count": 6,
      "outputs": []
    },
    {
      "cell_type": "code",
      "source": [
        "import os \n",
        "from time import time\n",
        "from time import sleep\n",
        "\n",
        "for i in range(333):\n",
        "  api_runner()\n",
        "  print('Run successful')\n",
        "  sleep(60) #sleep for a minute \n",
        "exit()"
      ],
      "metadata": {
        "id": "umRdUzLGTt8Q"
      },
      "execution_count": 11,
      "outputs": []
    },
    {
      "cell_type": "code",
      "source": [
        "pd.set_option('display.float_format', lambda x: '%.5f' % x)"
      ],
      "metadata": {
        "id": "0DxnZBSQUbJm"
      },
      "execution_count": 8,
      "outputs": []
    },
    {
      "cell_type": "code",
      "source": [
        "df"
      ],
      "metadata": {
        "id": "6ElFL6yMEVC5"
      },
      "execution_count": 11,
      "outputs": []
    },
    {
      "cell_type": "code",
      "source": [
        "df.groupby('name', sort = False)[['quote.USD.percent_change_1h','quote.USD.percent_change_24h','quote.USD.percent_change_7d','quote.USD.percent_change_30d',\n",
        "                                  'quote.USD.percent_change_60d','quote.USD.percent_change_90d']].mean()"
      ],
      "metadata": {
        "id": "La1JEuqOEZUK"
      },
      "execution_count": null,
      "outputs": []
    },
    {
      "cell_type": "code",
      "source": [
        "df2 = df.stack(); df2.to_frame(name = 'values'); \n",
        "index = pd.Index(range(90))\n",
        "df2.set_index(index); df2.reset_index\n",
        "df2.rename(columns={'level_1':'percent_change'})"
      ],
      "metadata": {
        "id": "VUMJpyKFFypV"
      },
      "execution_count": null,
      "outputs": []
    },
    {
      "cell_type": "code",
      "source": [
        "df2 = df2['percent_change'].replace(['quote.USD.percent_change_1h', 'quote.USD.percent_change_24h', 'quote.USD.percent_change_7d','quote.USD.percent_change_30d',\n",
        "                                     'quote.USD.percent_change_60d','quote.USD.percent_change_90d'],['1h','24h','7d','30d','60d','90d'])"
      ],
      "metadata": {
        "id": "JedvFtGWID2U"
      },
      "execution_count": null,
      "outputs": []
    },
    {
      "cell_type": "code",
      "source": [
        "import seaborn as sns; import matplotlib.pyplot as plt"
      ],
      "metadata": {
        "id": "6IPPasP7GF3b"
      },
      "execution_count": 10,
      "outputs": []
    },
    {
      "cell_type": "code",
      "source": [
        "sns.catplot(x='percent_change', y='values', hue='name', data = df2, kind='point')"
      ],
      "metadata": {
        "id": "jFcj9bP7HfZD"
      },
      "execution_count": null,
      "outputs": []
    }
  ]
}